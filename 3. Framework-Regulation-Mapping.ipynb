{
 "cells": [
  {
   "cell_type": "markdown",
   "id": "e2989d3b-fb6a-4c98-9c12-3a91017fc89a",
   "metadata": {},
   "source": [
    "### 1. Read the DPTM and NIST processed files"
   ]
  },
  {
   "cell_type": "code",
   "execution_count": 2,
   "id": "71bb6511-b000-4547-9acf-b0b42bdb2d5b",
   "metadata": {},
   "outputs": [],
   "source": [
    "import pandas as pd\n",
    "from sklearn.metrics.pairwise import cosine_similarity\n",
    "import numpy as np\n",
    "fw_file = \"NIST-Privacy-Framework-structured-withcontextFWReq-withEmbedding.csv\"\n",
    "reg_file = \"DPTM_Checklist_Full-withEmbedding.csv\""
   ]
  },
  {
   "cell_type": "code",
   "execution_count": null,
   "id": "ff86a35d-74eb-440d-a4cb-ed4d82295664",
   "metadata": {},
   "outputs": [],
   "source": [
    "df_fw = pd.read_csv(fw_file)\n",
    "df_fw.drop(labels=[\"Unnamed: 0\"],axis=1,inplace=True)\n",
    "\n",
    "df_reg = pd.read_csv(reg_file)\n",
    "df_reg.drop(labels=[\"Unnamed: 0\"],axis=1,inplace=True)"
   ]
  },
  {
   "cell_type": "code",
   "execution_count": null,
   "id": "e14b9438-ecb6-4b0f-8b1f-c8ed4002a986",
   "metadata": {},
   "outputs": [],
   "source": [
    "df_fw.shape # Number of Framework Requirements"
   ]
  },
  {
   "cell_type": "code",
   "execution_count": null,
   "id": "4a7ce541-4a39-4727-9360-a75746ed4d70",
   "metadata": {},
   "outputs": [],
   "source": [
    "df_fw.head(2)"
   ]
  },
  {
   "cell_type": "code",
   "execution_count": null,
   "id": "f6840dd9-0a12-42f5-9629-af2c048ac27c",
   "metadata": {},
   "outputs": [],
   "source": [
    "df_reg.shape # Number of Regulations"
   ]
  },
  {
   "cell_type": "code",
   "execution_count": null,
   "id": "76d398be-0694-4342-a009-5ecfe2de3c09",
   "metadata": {},
   "outputs": [],
   "source": [
    "df_reg.head(2)"
   ]
  },
  {
   "cell_type": "markdown",
   "id": "1de12cc2-5d92-4266-8213-a09327ae2353",
   "metadata": {},
   "source": [
    "### 2. Calculate cosine similarity of the embeddings"
   ]
  },
  {
   "cell_type": "code",
   "execution_count": null,
   "id": "b23b2e6a-6b2c-4b78-ac1c-dec494679899",
   "metadata": {},
   "outputs": [],
   "source": [
    "import ast\n",
    "dptm_vectors = df_reg[\"Description Embedding\"].tolist()\n",
    "nist_vectors = df_fw[\"Contextualized Framework Requirement Embedding\"].tolist()\n",
    "dptm_vectors = [ast.literal_eval(x) for x in dptm_vectors]\n",
    "nist_vectors = [ast.literal_eval(x) for x in nist_vectors]"
   ]
  },
  {
   "cell_type": "code",
   "execution_count": null,
   "id": "76728d53-bffd-429e-942e-e48e2c5a4a39",
   "metadata": {},
   "outputs": [],
   "source": [
    "similarity_matrix = cosine_similarity(dptm_vectors,nist_vectors) # We can start looking at similarities from which place one starts\n",
    "similarity_matrix.shape"
   ]
  },
  {
   "cell_type": "code",
   "execution_count": null,
   "id": "e4360cc0-6d8d-4281-8379-8217ed88cd09",
   "metadata": {},
   "outputs": [],
   "source": [
    "df_new = pd.DataFrame(np.repeat(df_reg.values, 5, axis=0))\n",
    "df_new.columns = df_reg.columns\n",
    "df_new.head(1)"
   ]
  },
  {
   "cell_type": "markdown",
   "id": "51d8cfcb-b334-4d22-b620-a409d442a57c",
   "metadata": {},
   "source": [
    "### 3. Map each DPTM requirement to Top5 similar NIST framework requirements"
   ]
  },
  {
   "cell_type": "code",
   "execution_count": null,
   "id": "5f2fd336-957c-459f-93fc-078cbeda4c8b",
   "metadata": {},
   "outputs": [],
   "source": [
    "for i in range(len(df_reg)):\n",
    "#for i in range(2):\n",
    "    indices_of_interest = np.argsort(similarity_matrix[i,:])[-5:][::-1]\n",
    "    similarity_score = similarity_matrix[i,indices_of_interest]\n",
    "    for count,fw_index in enumerate(indices_of_interest):\n",
    "        matched_framework_reqs = df_fw.iloc[fw_index]\n",
    "        df_new.loc[i*5+count,'Reg-FW-Similarity-Score'] = similarity_score[count]\n",
    "        df_new.loc[i*5+count,'Framework Requirement Description'] = matched_framework_reqs['Framework Requirement Description']\n",
    "        df_new.loc[i*5+count,'Contextualized Framework Requirement Description'] = matched_framework_reqs['Contextualized Framework Requirement Description']\n",
    "        df_new.loc[i*5+count,'Category Code'] = matched_framework_reqs['Category Code']\n",
    "        df_new.loc[i*5+count,'Function Code'] = matched_framework_reqs['Function Code']"
   ]
  },
  {
   "cell_type": "code",
   "execution_count": null,
   "id": "d509cd88-6079-4543-ac8a-c2dee88a1e73",
   "metadata": {},
   "outputs": [],
   "source": [
    "df_new.head()"
   ]
  },
  {
   "cell_type": "code",
   "execution_count": null,
   "id": "ed45541d-7c2e-4be3-88a3-0a2fdb833a2f",
   "metadata": {},
   "outputs": [],
   "source": [
    "#df_new.drop(labels=[\"Policy Type\", \"Policy Documents\",\"Description Embedding\"],axis=1,inplace=True)\n",
    "df_new.to_csv(\"DPTM_to_NIST_Mapping.csv\")\n",
    "df_new.head()"
   ]
  },
  {
   "cell_type": "code",
   "execution_count": 3,
   "id": "66065e0b-f4b3-491e-97ec-533c1fdb0518",
   "metadata": {},
   "outputs": [
    {
     "data": {
      "text/html": [
       "<div>\n",
       "<style scoped>\n",
       "    .dataframe tbody tr th:only-of-type {\n",
       "        vertical-align: middle;\n",
       "    }\n",
       "\n",
       "    .dataframe tbody tr th {\n",
       "        vertical-align: top;\n",
       "    }\n",
       "\n",
       "    .dataframe thead th {\n",
       "        text-align: right;\n",
       "    }\n",
       "</style>\n",
       "<table border=\"1\" class=\"dataframe\">\n",
       "  <thead>\n",
       "    <tr style=\"text-align: right;\">\n",
       "      <th></th>\n",
       "      <th>Category</th>\n",
       "      <th>Title</th>\n",
       "      <th>Description</th>\n",
       "      <th>Policy Type</th>\n",
       "      <th>Policy Documents</th>\n",
       "      <th>Description Embedding</th>\n",
       "      <th>Reg-FW-Similarity-Score</th>\n",
       "      <th>Framework Requirement Description</th>\n",
       "      <th>Contextualized Framework Requirement Description</th>\n",
       "      <th>Category Code</th>\n",
       "      <th>Function Code</th>\n",
       "    </tr>\n",
       "  </thead>\n",
       "  <tbody>\n",
       "    <tr>\n",
       "      <th>0</th>\n",
       "      <td>Governance and Transparency</td>\n",
       "      <td>Establish data protection policies and practices</td>\n",
       "      <td>Organisation shall have data protection polici...</td>\n",
       "      <td>Internal</td>\n",
       "      <td>NaN</td>\n",
       "      <td>[0.00333080324344337, 0.02203933335840702, 0.0...</td>\n",
       "      <td>0.606939</td>\n",
       "      <td>Policies, processes, and procedures for enabli...</td>\n",
       "      <td>Establish and maintain policies, processes, an...</td>\n",
       "      <td>Data Processing Policies, Processes, and Proce...</td>\n",
       "      <td>CONTROL-P (CT-P)</td>\n",
       "    </tr>\n",
       "    <tr>\n",
       "      <th>1</th>\n",
       "      <td>Governance and Transparency</td>\n",
       "      <td>Establish data protection policies and practices</td>\n",
       "      <td>Organisation shall have data protection polici...</td>\n",
       "      <td>Internal</td>\n",
       "      <td>NaN</td>\n",
       "      <td>[0.00333080324344337, 0.02203933335840702, 0.0...</td>\n",
       "      <td>0.601434</td>\n",
       "      <td>Policy and regulations regarding the physical ...</td>\n",
       "      <td>Ensure organizational policies and regulations...</td>\n",
       "      <td>Data Protection Policies, Processes, and Proce...</td>\n",
       "      <td>PROTECT-P (PR-P)</td>\n",
       "    </tr>\n",
       "    <tr>\n",
       "      <th>2</th>\n",
       "      <td>Governance and Transparency</td>\n",
       "      <td>Establish data protection policies and practices</td>\n",
       "      <td>Organisation shall have data protection polici...</td>\n",
       "      <td>Internal</td>\n",
       "      <td>NaN</td>\n",
       "      <td>[0.00333080324344337, 0.02203933335840702, 0.0...</td>\n",
       "      <td>0.597835</td>\n",
       "      <td>Organizational privacy values and policies (e....</td>\n",
       "      <td>Establish and communicate organizational priva...</td>\n",
       "      <td>Governance Policies, Processes, and Procedures...</td>\n",
       "      <td>GOVERN-P (GV-P)</td>\n",
       "    </tr>\n",
       "    <tr>\n",
       "      <th>3</th>\n",
       "      <td>Governance and Transparency</td>\n",
       "      <td>Establish data protection policies and practices</td>\n",
       "      <td>Organisation shall have data protection polici...</td>\n",
       "      <td>Internal</td>\n",
       "      <td>NaN</td>\n",
       "      <td>[0.00333080324344337, 0.02203933335840702, 0.0...</td>\n",
       "      <td>0.590087</td>\n",
       "      <td>Protection processes are improved.</td>\n",
       "      <td>Enhance protection processes to align with sec...</td>\n",
       "      <td>Data Protection Policies, Processes, and Proce...</td>\n",
       "      <td>PROTECT-P (PR-P)</td>\n",
       "    </tr>\n",
       "    <tr>\n",
       "      <th>4</th>\n",
       "      <td>Governance and Transparency</td>\n",
       "      <td>Establish data protection policies and practices</td>\n",
       "      <td>Organisation shall have data protection polici...</td>\n",
       "      <td>Internal</td>\n",
       "      <td>NaN</td>\n",
       "      <td>[0.00333080324344337, 0.02203933335840702, 0.0...</td>\n",
       "      <td>0.584986</td>\n",
       "      <td>Privacy procedures are included in human resou...</td>\n",
       "      <td>Integrate privacy procedures within human reso...</td>\n",
       "      <td>Data Protection Policies, Processes, and Proce...</td>\n",
       "      <td>PROTECT-P (PR-P)</td>\n",
       "    </tr>\n",
       "  </tbody>\n",
       "</table>\n",
       "</div>"
      ],
      "text/plain": [
       "                      Category  \\\n",
       "0  Governance and Transparency   \n",
       "1  Governance and Transparency   \n",
       "2  Governance and Transparency   \n",
       "3  Governance and Transparency   \n",
       "4  Governance and Transparency   \n",
       "\n",
       "                                              Title  \\\n",
       "0  Establish data protection policies and practices   \n",
       "1  Establish data protection policies and practices   \n",
       "2  Establish data protection policies and practices   \n",
       "3  Establish data protection policies and practices   \n",
       "4  Establish data protection policies and practices   \n",
       "\n",
       "                                         Description Policy Type  \\\n",
       "0  Organisation shall have data protection polici...    Internal   \n",
       "1  Organisation shall have data protection polici...    Internal   \n",
       "2  Organisation shall have data protection polici...    Internal   \n",
       "3  Organisation shall have data protection polici...    Internal   \n",
       "4  Organisation shall have data protection polici...    Internal   \n",
       "\n",
       "   Policy Documents                              Description Embedding  \\\n",
       "0               NaN  [0.00333080324344337, 0.02203933335840702, 0.0...   \n",
       "1               NaN  [0.00333080324344337, 0.02203933335840702, 0.0...   \n",
       "2               NaN  [0.00333080324344337, 0.02203933335840702, 0.0...   \n",
       "3               NaN  [0.00333080324344337, 0.02203933335840702, 0.0...   \n",
       "4               NaN  [0.00333080324344337, 0.02203933335840702, 0.0...   \n",
       "\n",
       "   Reg-FW-Similarity-Score                  Framework Requirement Description  \\\n",
       "0                 0.606939  Policies, processes, and procedures for enabli...   \n",
       "1                 0.601434  Policy and regulations regarding the physical ...   \n",
       "2                 0.597835  Organizational privacy values and policies (e....   \n",
       "3                 0.590087                 Protection processes are improved.   \n",
       "4                 0.584986  Privacy procedures are included in human resou...   \n",
       "\n",
       "    Contextualized Framework Requirement Description  \\\n",
       "0  Establish and maintain policies, processes, an...   \n",
       "1  Ensure organizational policies and regulations...   \n",
       "2  Establish and communicate organizational priva...   \n",
       "3  Enhance protection processes to align with sec...   \n",
       "4  Integrate privacy procedures within human reso...   \n",
       "\n",
       "                                       Category Code     Function Code  \n",
       "0  Data Processing Policies, Processes, and Proce...  CONTROL-P (CT-P)  \n",
       "1  Data Protection Policies, Processes, and Proce...  PROTECT-P (PR-P)  \n",
       "2  Governance Policies, Processes, and Procedures...   GOVERN-P (GV-P)  \n",
       "3  Data Protection Policies, Processes, and Proce...  PROTECT-P (PR-P)  \n",
       "4  Data Protection Policies, Processes, and Proce...  PROTECT-P (PR-P)  "
      ]
     },
     "execution_count": 3,
     "metadata": {},
     "output_type": "execute_result"
    }
   ],
   "source": [
    "df_new = pd.read_csv(\"DPTM_to_NIST_Mapping.csv\", index_col=0)\n",
    "df_new.head()"
   ]
  },
  {
   "cell_type": "code",
   "execution_count": null,
   "id": "9f92f3f9-5809-4e3c-b2d6-d2dfe8abcbf7",
   "metadata": {},
   "outputs": [],
   "source": []
  }
 ],
 "metadata": {
  "kernelspec": {
   "display_name": "Python 3 (ipykernel)",
   "language": "python",
   "name": "python3"
  },
  "language_info": {
   "codemirror_mode": {
    "name": "ipython",
    "version": 3
   },
   "file_extension": ".py",
   "mimetype": "text/x-python",
   "name": "python",
   "nbconvert_exporter": "python",
   "pygments_lexer": "ipython3",
   "version": "3.8.18"
  }
 },
 "nbformat": 4,
 "nbformat_minor": 5
}
