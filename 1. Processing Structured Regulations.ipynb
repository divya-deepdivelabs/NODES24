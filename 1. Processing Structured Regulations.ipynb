{
 "cells": [
  {
   "cell_type": "markdown",
   "id": "27f9134d-4b2c-4892-beb0-61047165be08",
   "metadata": {},
   "source": [
    "### 1. Convert DPTM-Checklist pdf to tabular structure using CoT prompting"
   ]
  },
  {
   "cell_type": "code",
   "execution_count": 1,
   "id": "136e1ad3-b0bb-4106-ada4-f238e7ed60f9",
   "metadata": {},
   "outputs": [],
   "source": [
    "import os\n",
    "import openai\n",
    "import json\n",
    "import tiktoken\n",
    "import pandas as pd\n",
    "from pypdf import PdfReader\n",
    "regulatory_doc_filename = \"DPTM-Checklist.pdf\"\n",
    "from pypdf import PdfReader\n",
    "os.environ[\"OPENAI_API_KEY\"] = \"<OPENAI-API-KEY>\"\n",
    "\n",
    "from openai import OpenAI\n",
    "client = OpenAI()\n",
    "encoding = tiktoken.get_encoding(\"cl100k_base\")"
   ]
  },
  {
   "cell_type": "code",
   "execution_count": null,
   "id": "3b2eb39f-176b-49e1-8b3d-4abd95372dbf",
   "metadata": {},
   "outputs": [],
   "source": [
    "from llama_index.llms.openai import OpenAI\n",
    "from llama_index.embeddings.openai import OpenAIEmbedding\n",
    "from llama_index.core import  VectorStoreIndex\n",
    "from llama_index.core import Settings\n",
    "\n",
    "EMBEDDING_MODEL  = \"text-embedding-3-small\"\n",
    "GENERATION_MODEL = \"gpt-4\"\n",
    "\n",
    "llm = OpenAI(model=GENERATION_MODEL)\n",
    "\n",
    "Settings.llm = llm"
   ]
  },
  {
   "cell_type": "code",
   "execution_count": null,
   "id": "c373aacc-1bb2-41bd-9bfa-d030ae9bff1d",
   "metadata": {},
   "outputs": [],
   "source": [
    "def call_chatgpt4(prompt):\n",
    "    completion = client.chat.completions.create(\n",
    "      model=\"gpt-4-turbo\",\n",
    "      #model=\"gpt-4o\",\n",
    "      messages=[\n",
    "        {\"role\": \"system\", \"content\": \"I am an auditor. My job is to perform regulatory assessment and compliance evaluation.\"},\n",
    "        {\"role\": \"user\", \"content\": prompt}\n",
    "      ],\n",
    "      temperature = 0.0,\n",
    "      seed= 42,\n",
    "      top_p = 0.98,\n",
    "      max_tokens  = 4096,\n",
    "      response_format={ \"type\": \"json_object\" }\n",
    "    )\n",
    "    #output_token_count = len(encoding.encode(completion.choices[0].message.content))\n",
    "\n",
    "    response_json = json.loads(completion.choices[0].message.content)\n",
    "    \n",
    "    return response_json"
   ]
  },
  {
   "cell_type": "code",
   "execution_count": null,
   "id": "ec5920ec-e65b-46a4-8eaf-fe33f87bcdd9",
   "metadata": {},
   "outputs": [],
   "source": [
    "list_of_categories = [\"Governance and Transparency\",\"Management of Personal Data\", \"Care of Personal Data\", \"Individual’s Rights\"]\n",
    "def text_from_pdf(filename):\n",
    "    # creating a pdf reader object\n",
    "    reader = PdfReader(filename)\n",
    "    text = \"\"\n",
    "    for pageno in range(len(reader.pages)):\n",
    "        page = reader.pages[pageno]\n",
    "        text += page.extract_text()\n",
    "    #len(regulatory_text)\n",
    "    return text\n",
    "regulatory_text = text_from_pdf(regulatory_doc_filename)"
   ]
  },
  {
   "cell_type": "code",
   "execution_count": null,
   "id": "b54c98ee-d9ac-4a15-9189-3982c59fb9bb",
   "metadata": {},
   "outputs": [],
   "source": [
    "def regulatory_requirement_extraction_forcategory(regulatory_text_fromfile, category_of_interest):\n",
    "    analysis_prompt = \"\"\"\n",
    "    You are an auditor in charge of assessing privacy regulations in Singapore. The  Data Production Trustmark (DPTM) checklist applicable for Singapore is provided between the <data> XML like tags.\n",
    "    Your objective is to extract all regulatory requirements from the document. \n",
    "    Follow the detailed instructions below to analyze regulatory document:\n",
    "    \n",
    "    1. Read through the entire regulatory document . \n",
    "    2. For each checklist item, identify the category of the checklist requirement, the subcategory and finally who it applies to and the corresponding policy document on which details needs to be found.  \n",
    "    3. Use only the information provided in the regulatory document\n",
    "    4. For each item on the checklist corresponding to ONLY the category \"{category_of_interest}\" extract the following information:\n",
    "        Category: The principle on which the checklist requirement is based.  \n",
    "        Title: The subcategory to which the checklist requirement belongs.\n",
    "        Description: The exact checklist requirement from the \"checklist\" column of the given text. Do not summarise or combine the checklist description from multiple rows. If the same checklist is applicable to different stakeholders make sure to include each as a separate requirement with the information of the stakeholder. If there are different items that need to be checked, list each requirement as a separate row.  \n",
    "        Stakeholder: The stakeholder to whom the checklist requirement applies\n",
    "        Mapped Policy Document: An educated guess the policy document that would have details for the checklist requirement. If not known, specify UNKNOWN\n",
    "        \n",
    "        The regulatory document is provided below:\n",
    "\n",
    "        <data>\n",
    "        {regulatory_text}\n",
    "        </data>\n",
    "\n",
    "        Provide the output in the following strictly in serializable JSON format with correct indent all over the output.    \n",
    "    \n",
    "        {{\n",
    "            \"Checklist_requirements\": [\n",
    "            {{\n",
    "            \"Category\" : The principle on which the checklist requiremnt is based as a string,\n",
    "            \"Title\": A short 5-6 word subcategory to which the checklist requirement belongs to as a string,\n",
    "            \"Description\" : The complete description of the checklist requirement as string,\n",
    "            \"Stakeholder\" : The stakeholder to whom the checklist requirement applies to as a string,\n",
    "            \"Mapped_Policy_Document\" : \"The policy document name (5-6 words) to check for this requirement\"\n",
    "            }},\n",
    "            ....\n",
    "            ]\n",
    "        }}\n",
    "   \n",
    "\n",
    "    \"\"\"\n",
    "    return analysis_prompt.format(regulatory_text=regulatory_text_fromfile,category_of_interest=category_of_interest)"
   ]
  },
  {
   "cell_type": "code",
   "execution_count": null,
   "id": "341e95f2-1284-4e0f-afdf-a01f2ada5f17",
   "metadata": {},
   "outputs": [],
   "source": [
    "# Looping thru the list of splits\n",
    "list_of_categories = [\"Governance and Transparency\",\"Management of Personal Data\", \"Care of Personal Data\", \"Individual’s Rights\"]\n",
    "#header_text = regulatory_text.split(\"Principle \")[0] + \"Principle \"\n",
    "#for index, text in enumerate(regulatory_text.split(\"Principle \")[1:]):\n",
    "for index,category in enumerate(list_of_categories):\n",
    "    \n",
    "    prompt_withcategory = regulatory_requirement_extraction_forcategory(regulatory_text,category)\n",
    "    #print(category)\n",
    "    #print(len(prompt_withcategory))\n",
    "    response_json_chatgpt4 = call_chatgpt4(prompt_withcategory)\n",
    "\n",
    "    #print(header_text+text)\n",
    "    print(\"Num of requirements extracted\")\n",
    "    print(len(response_json_chatgpt4[\"Checklist_requirements\"]))\n",
    "    df = pd.DataFrame(response_json_chatgpt4[\"Checklist_requirements\"])\n",
    "    if index > 0:\n",
    "        df_checklist_req = pd.concat([df_checklist_req, df], ignore_index = True) \n",
    "    else:\n",
    "        df_checklist_req = df.copy()\n",
    "\n",
    "df_checklist_req.shape"
   ]
  },
  {
   "cell_type": "code",
   "execution_count": null,
   "id": "26156079-e9c1-4f05-9017-7e4221e57725",
   "metadata": {},
   "outputs": [],
   "source": [
    "df_checklist_req.head()"
   ]
  },
  {
   "cell_type": "code",
   "execution_count": null,
   "id": "06ae7aca-1635-46a7-8667-350fd4f65a8b",
   "metadata": {},
   "outputs": [],
   "source": [
    "df_checklist_req.to_csv(\"DPTM_Checklist_Full.csv\")"
   ]
  },
  {
   "cell_type": "markdown",
   "id": "e7818279-6f36-4857-abbb-952587bec8fe",
   "metadata": {},
   "source": [
    "### 2. Read DPTM checklist and create embeddings of \"Descriptions\"\n",
    "\n",
    "In this work we consider these Descriptions as Regulatory Requirements"
   ]
  },
  {
   "cell_type": "code",
   "execution_count": null,
   "id": "e4051c08-0b86-42d0-9f10-86062a65a7d7",
   "metadata": {},
   "outputs": [],
   "source": [
    "#DPTM_file = \"DPTM_Checklist_CoT.csv\"\n",
    "DPTM_file = \"DPTM_Checklist_Full.csv\"\n",
    "df_reg = pd.read_csv(DPTM_file, index_col=None)\n",
    "df_reg.drop(labels=[\"Unnamed: 0\"],axis=1,inplace=True)\n",
    "print(df_reg.shape)\n",
    "df_reg.head()"
   ]
  },
  {
   "cell_type": "code",
   "execution_count": null,
   "id": "d6dee5bd-74c6-4689-bbc9-f25f077f06f8",
   "metadata": {},
   "outputs": [],
   "source": [
    "openai_client = OpenAI (api_key = os.environ[\"OPENAI_API_KEY\"])\n",
    "def get_embedding(client, text, model):\n",
    "    response = client.embeddings.create(\n",
    "                    input=text,\n",
    "                    model=model,\n",
    "                )\n",
    "    return response.data[0].embedding\n",
    "def call_embedding_func(row):\n",
    "    embedding = get_embedding(openai_client, row[\"Description\"], EMBEDDING_MODEL)\n",
    "    return embedding"
   ]
  },
  {
   "cell_type": "code",
   "execution_count": null,
   "id": "cf69c2d8-e812-46c7-917c-5f24f87dd399",
   "metadata": {},
   "outputs": [],
   "source": [
    "df_reg[\"Description Embedding\"] = df_reg.apply(call_embedding_func,axis=1)"
   ]
  },
  {
   "cell_type": "code",
   "execution_count": null,
   "id": "01163942-f2f8-4ba2-ac80-c7065a3e47f4",
   "metadata": {},
   "outputs": [],
   "source": [
    "#df_reg.to_csv(\"DPTM_Checklist_CoT-withEmbedding.csv\")\n",
    "df_reg.to_csv(\"DPTM_Checklist_Full-withEmbedding.csv\")\n",
    "df_reg.head()"
   ]
  },
  {
   "cell_type": "code",
   "execution_count": null,
   "id": "fa55c00c-002a-470c-ab9c-f72c60f8cfda",
   "metadata": {},
   "outputs": [],
   "source": [
    "df_reg.shape"
   ]
  },
  {
   "cell_type": "code",
   "execution_count": 6,
   "id": "47eecafa-5cff-465c-9275-df9fe9a4db10",
   "metadata": {},
   "outputs": [
    {
     "data": {
      "text/html": [
       "<div>\n",
       "<style scoped>\n",
       "    .dataframe tbody tr th:only-of-type {\n",
       "        vertical-align: middle;\n",
       "    }\n",
       "\n",
       "    .dataframe tbody tr th {\n",
       "        vertical-align: top;\n",
       "    }\n",
       "\n",
       "    .dataframe thead th {\n",
       "        text-align: right;\n",
       "    }\n",
       "</style>\n",
       "<table border=\"1\" class=\"dataframe\">\n",
       "  <thead>\n",
       "    <tr style=\"text-align: right;\">\n",
       "      <th></th>\n",
       "      <th>Category</th>\n",
       "      <th>Title</th>\n",
       "      <th>Description</th>\n",
       "      <th>Policy Type</th>\n",
       "      <th>Policy Documents</th>\n",
       "      <th>Description Embedding</th>\n",
       "    </tr>\n",
       "  </thead>\n",
       "  <tbody>\n",
       "    <tr>\n",
       "      <th>0</th>\n",
       "      <td>Governance and Transparency</td>\n",
       "      <td>Establish data protection policies and practices</td>\n",
       "      <td>Organisation shall have data protection polici...</td>\n",
       "      <td>Internal</td>\n",
       "      <td>NaN</td>\n",
       "      <td>[0.00333080324344337, 0.02203933335840702, 0.0...</td>\n",
       "    </tr>\n",
       "    <tr>\n",
       "      <th>1</th>\n",
       "      <td>Governance and Transparency</td>\n",
       "      <td>Establish data protection policies and practices</td>\n",
       "      <td>Organisation shall have data protection polici...</td>\n",
       "      <td>External</td>\n",
       "      <td>NaN</td>\n",
       "      <td>[0.006035863421857357, 0.01567075029015541, 0....</td>\n",
       "    </tr>\n",
       "    <tr>\n",
       "      <th>2</th>\n",
       "      <td>Governance and Transparency</td>\n",
       "      <td>Establish data protection policies and practices</td>\n",
       "      <td>Organisation shall have data protection polici...</td>\n",
       "      <td>Internal</td>\n",
       "      <td>NaN</td>\n",
       "      <td>[-0.00540529889985919, 0.01313601341098547, 0....</td>\n",
       "    </tr>\n",
       "    <tr>\n",
       "      <th>3</th>\n",
       "      <td>Governance and Transparency</td>\n",
       "      <td>Establish data protection policies and practices</td>\n",
       "      <td>Organisation shall publish and communicate the...</td>\n",
       "      <td>External</td>\n",
       "      <td>NaN</td>\n",
       "      <td>[0.025840099900960922, 0.014451069757342339, 0...</td>\n",
       "    </tr>\n",
       "    <tr>\n",
       "      <th>4</th>\n",
       "      <td>Governance and Transparency</td>\n",
       "      <td>Establish data protection policies and practices</td>\n",
       "      <td>Organisation shall publish and communicate the...</td>\n",
       "      <td>Internal</td>\n",
       "      <td>NaN</td>\n",
       "      <td>[0.024895088747143745, 0.03457169979810715, 0....</td>\n",
       "    </tr>\n",
       "  </tbody>\n",
       "</table>\n",
       "</div>"
      ],
      "text/plain": [
       "                      Category  \\\n",
       "0  Governance and Transparency   \n",
       "1  Governance and Transparency   \n",
       "2  Governance and Transparency   \n",
       "3  Governance and Transparency   \n",
       "4  Governance and Transparency   \n",
       "\n",
       "                                              Title  \\\n",
       "0  Establish data protection policies and practices   \n",
       "1  Establish data protection policies and practices   \n",
       "2  Establish data protection policies and practices   \n",
       "3  Establish data protection policies and practices   \n",
       "4  Establish data protection policies and practices   \n",
       "\n",
       "                                         Description Policy Type  \\\n",
       "0  Organisation shall have data protection polici...    Internal   \n",
       "1  Organisation shall have data protection polici...    External   \n",
       "2  Organisation shall have data protection polici...    Internal   \n",
       "3  Organisation shall publish and communicate the...    External   \n",
       "4  Organisation shall publish and communicate the...    Internal   \n",
       "\n",
       "   Policy Documents                              Description Embedding  \n",
       "0               NaN  [0.00333080324344337, 0.02203933335840702, 0.0...  \n",
       "1               NaN  [0.006035863421857357, 0.01567075029015541, 0....  \n",
       "2               NaN  [-0.00540529889985919, 0.01313601341098547, 0....  \n",
       "3               NaN  [0.025840099900960922, 0.014451069757342339, 0...  \n",
       "4               NaN  [0.024895088747143745, 0.03457169979810715, 0....  "
      ]
     },
     "execution_count": 6,
     "metadata": {},
     "output_type": "execute_result"
    }
   ],
   "source": [
    "df_reg = pd.read_csv(\"DPTM_Checklist_Full-withEmbedding.csv\",index_col=0)\n",
    "df_reg.head()"
   ]
  },
  {
   "cell_type": "code",
   "execution_count": null,
   "id": "fa0d65bf-5f2b-4e9d-adaa-a55ab95bbade",
   "metadata": {},
   "outputs": [],
   "source": []
  }
 ],
 "metadata": {
  "kernelspec": {
   "display_name": "Python 3 (ipykernel)",
   "language": "python",
   "name": "python3"
  },
  "language_info": {
   "codemirror_mode": {
    "name": "ipython",
    "version": 3
   },
   "file_extension": ".py",
   "mimetype": "text/x-python",
   "name": "python",
   "nbconvert_exporter": "python",
   "pygments_lexer": "ipython3",
   "version": "3.8.18"
  }
 },
 "nbformat": 4,
 "nbformat_minor": 5
}
