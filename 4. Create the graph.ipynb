{
 "cells": [
  {
   "cell_type": "markdown",
   "id": "394325b2-cd4c-4008-9075-d357b46f9cad",
   "metadata": {},
   "source": [
    "### 1. Make Connection to neo4j DB\n",
    "\n",
    "You can use Neo4j sandbox https://neo4j.com/sandbox/"
   ]
  },
  {
   "cell_type": "code",
   "execution_count": null,
   "id": "3deb81c4-f2d0-48be-859a-96d71aaa086e",
   "metadata": {},
   "outputs": [],
   "source": [
    "from neo4j import GraphDatabase\n",
    "# Connection parameters\n",
    "uri = \"bolt://localhost:7687\"\n",
    "user = \"neo4j\"\n",
    "pwd = \"<pwd>\"\n",
    "NEO4J_DATABASE = \"dptm-nist-map\"\n",
    "\n",
    "#uri = \"bolt://98.84.42.72\"\n",
    "#user = \"neo4j\"\n",
    "#pwd = \"<pwd>\"\n",
    "#NEO4J_DATABASE = \"neo4j\"\n",
    "\n",
    "def create_session(uri, user, pwd):\n",
    "    driver = GraphDatabase.driver(uri, database=NEO4J_DATABASE, auth=(user, pwd))\n",
    "    return driver.session()\n",
    "\n",
    "def execute_query(session, query):\n",
    "    with session.begin_transaction() as tx:\n",
    "        tx.run(query)\n",
    "        tx.commit()  # Ensure changes are committed\n",
    "\n",
    "# Create a session\n",
    "session = create_session(uri, user, pwd)\n",
    "# :style reset - on the browser\n",
    "# MATCH (n) DETACH DELETE n\n",
    "\n",
    "import pandas as pd\n",
    "from sklearn.metrics.pairwise import cosine_similarity\n",
    "import numpy as np"
   ]
  },
  {
   "cell_type": "markdown",
   "id": "98400b93-c63f-42af-b563-96c0ac66a908",
   "metadata": {},
   "source": [
    "### 2. Read both DPTM Requirement and NIST Framework"
   ]
  },
  {
   "cell_type": "code",
   "execution_count": null,
   "id": "e8f7fc8d-8c7f-46c7-8d74-f76473165371",
   "metadata": {},
   "outputs": [],
   "source": [
    "fw_file = \"NIST-Privacy-Framework-structured-withcontextFWReq-withEmbedding.csv\"\n",
    "reg_file = \"DPTM_Checklist_Full-withEmbedding.csv\"\n",
    "df_fw = pd.read_csv(fw_file)\n",
    "df_fw.drop(labels=[\"Unnamed: 0\"],axis=1,inplace=True)\n",
    "\n",
    "df_reg = pd.read_csv(reg_file)\n",
    "df_reg.drop(labels=[\"Unnamed: 0\"],axis=1,inplace=True)\n",
    "#df_reg.columns = ['Function', 'Category', 'Stakeholder', 'Requirement Description', 'Policy Documents', 'Requirement Description Embedding']\n",
    "df_reg.columns = ['Function', 'Category', 'Requirement Description', 'Policy Type', 'Policy Documents', 'Requirement Description Embedding']"
   ]
  },
  {
   "cell_type": "code",
   "execution_count": null,
   "id": "57de5eea-2316-461f-b5d4-b15c5ba4a46b",
   "metadata": {},
   "outputs": [],
   "source": [
    "df_reg.head()"
   ]
  },
  {
   "cell_type": "markdown",
   "id": "4e47520b-55c5-4b44-aab0-0cd43477bb97",
   "metadata": {},
   "source": [
    "### 3. Code to load both Regulatory Requirements & Framework Requirements into Neo4j"
   ]
  },
  {
   "cell_type": "code",
   "execution_count": null,
   "id": "a73abbc6-0b04-4bcc-9968-d7f3b9797729",
   "metadata": {},
   "outputs": [],
   "source": [
    "def create_code(text):\n",
    "    code_string =  ''.join([string[:2] for string in text.split(' ')]).upper()\n",
    "    return code_string\n",
    "\n",
    "def create_reg_code(row):\n",
    "    code_string =  row['Function Code']+\"-\"+row['Category Code']+\"-\"+str(row.name)\n",
    "    return code_string"
   ]
  },
  {
   "cell_type": "code",
   "execution_count": null,
   "id": "b652efa2-ee07-4077-b0fd-31877ac8a458",
   "metadata": {},
   "outputs": [],
   "source": [
    "df_reg[\"Function Code\"] = df_reg[\"Function\"].apply(create_code)\n",
    "df_reg[\"Category Code\"] = df_reg[\"Category\"].apply(create_code)\n",
    "df_reg[\"Requirement Code\"] = df_reg.apply(create_reg_code,axis=1)"
   ]
  },
  {
   "cell_type": "code",
   "execution_count": null,
   "id": "23aae1e5-9095-4b33-9875-6da3b1e9bc60",
   "metadata": {},
   "outputs": [],
   "source": [
    "#create document node. Making both NIST and Regulation as Document nodes\n",
    "create_doc_nodes = \"\"\"\n",
    "CREATE (:Document {Description: \"NIST Privacy Framework\", Year: 2024, Validity: True}),\n",
    "       (:Document {Description: \"DPTM Checklist\", Year: 2024, Validity: True})\n",
    "\"\"\"\n",
    "# Execute the queries\n",
    "execute_query(session, create_doc_nodes)"
   ]
  },
  {
   "cell_type": "code",
   "execution_count": null,
   "id": "f9cec5c1-909d-490d-a003-76532ff545f2",
   "metadata": {},
   "outputs": [],
   "source": [
    "def create_node(nodetype, code, description):\n",
    "    create_cypher = \"\"\"\n",
    "    CREATE (:{nodetype} {{Code: \"{code}\", Description: \"{description}\" }})\n",
    "    \"\"\"\n",
    "    execute_query(session, create_cypher.format(nodetype=nodetype, code=code,description=description))\n",
    "\n",
    "def create_fwnode(code, description, contextdesc):\n",
    "    create_cypher = \"\"\"\n",
    "    CREATE (:NISTRequirements {{Code: \"{code}\", Description: \"{description}\", Contextual_Description: \"{contextdesc}\" }})\n",
    "    \"\"\"\n",
    "    execute_query(session, create_cypher.format(code=code,description=description,contextdesc=contextdesc))"
   ]
  },
  {
   "cell_type": "markdown",
   "id": "83356f3d-deb3-42d6-a6e2-a55b847bd545",
   "metadata": {},
   "source": [
    "#### Loading NIST Framework into Neo4j"
   ]
  },
  {
   "cell_type": "code",
   "execution_count": null,
   "id": "a9b66879-bee5-431d-9eef-3c9ca9c85a8e",
   "metadata": {},
   "outputs": [],
   "source": [
    "# Creating function nodes and relationship with document\n",
    "for code, func_desc in zip(df_fw[\"Function Code\"].unique(), df_fw[\"Function Description\"].unique()):\n",
    "    create_node(\"Function\",code,func_desc)\n",
    "    create_relationships = \"\"\"\n",
    "    MATCH (d:Document), (f:Function)\n",
    "    WHERE d.Description = \"NIST Privacy Framework\" AND f.Code = \"{code}\" \n",
    "    CREATE (d)-[:CONTAINS]->(f)\n",
    "    \"\"\"\n",
    "    execute_query(session, create_relationships.format(code=code))"
   ]
  },
  {
   "cell_type": "code",
   "execution_count": null,
   "id": "da109488-4ea2-4e80-9a10-ce191bfdce59",
   "metadata": {},
   "outputs": [],
   "source": [
    "# Creating category nodes and relationship with function\n",
    "for func_code in df_fw[\"Function Code\"].unique():\n",
    "    df_subset = df_fw[df_fw[\"Function Code\"]==func_code]\n",
    "    for code, cat_desc in zip(df_subset[\"Category Code\"].unique(), df_fw[\"Category Description\"].unique()):\n",
    "        create_node(\"Category\",code,cat_desc)\n",
    "        create_relationships = \"\"\"\n",
    "        MATCH (f:Function), (c:Category)\n",
    "        WHERE f.Code = \"{func_code}\" AND c.Code = \"{cat_code}\" \n",
    "        CREATE (f)-[:DEFINED_BY]->(c)\n",
    "        \"\"\"\n",
    "        execute_query(session, create_relationships.format(func_code=func_code,cat_code=code))"
   ]
  },
  {
   "cell_type": "code",
   "execution_count": null,
   "id": "9de48ff9-b178-48c2-a436-f9494e2cc4f1",
   "metadata": {},
   "outputs": [],
   "source": [
    "# Creating FW Requirement nodes and relationship with Category\n",
    "for cat_code in df_fw[\"Category Code\"].unique():\n",
    "    #print(cat_code)\n",
    "    df_subset = df_fw[df_fw[\"Category Code\"]==cat_code]\n",
    "    for fw_code in df_subset[\"Framework Requirement Code\"].unique():\n",
    "        #print(fw_code)\n",
    "        row = df_fw[df_fw[\"Framework Requirement Code\"]==fw_code]\n",
    "        row.reset_index(inplace=True,drop=True)\n",
    "        #print(row.shape)\n",
    "        #print(\"**\")\n",
    "        create_fwnode(row[\"Framework Requirement Code\"][0],row[\"Framework Requirement Description\"][0],row[\"Contextualized Framework Requirement Description\"][0])\n",
    "        \n",
    "        create_relationships = \"\"\"\n",
    "        MATCH (c:Category), (fw: NISTRequirements)\n",
    "        WHERE c.Code = \"{cat_code}\" AND fw.Code = \"{fw_code}\" \n",
    "        CREATE (c)-[:REQUIRES]->(fw)\n",
    "        \"\"\"\n",
    "        execute_query(session, create_relationships.format(cat_code=cat_code,fw_code=fw_code))"
   ]
  },
  {
   "cell_type": "markdown",
   "id": "2c5385ec-5efd-4bed-8705-b9ef24d6ec3a",
   "metadata": {},
   "source": [
    "#### Loading DPTM Regulation into Neo4j"
   ]
  },
  {
   "cell_type": "code",
   "execution_count": null,
   "id": "48ea6efd-94c7-4752-88e1-ed95f41a988d",
   "metadata": {},
   "outputs": [],
   "source": [
    "# Creating function nodes and relationship with document\n",
    "for code, func_desc in zip(df_reg[\"Function Code\"].unique(), df_reg[\"Function\"].unique()):\n",
    "    create_node(\"Function\",code,func_desc)\n",
    "    create_relationships = \"\"\"\n",
    "    MATCH (d:Document), (f:Function)\n",
    "    WHERE d.Description = \"DPTM Checklist\" AND f.Code = \"{code}\" \n",
    "    CREATE (d)-[:CONTAINS]->(f)\n",
    "    \"\"\"\n",
    "    execute_query(session, create_relationships.format(code=code))"
   ]
  },
  {
   "cell_type": "code",
   "execution_count": null,
   "id": "fb72c7d2-c207-42fb-b71e-da6c3289d7c3",
   "metadata": {},
   "outputs": [],
   "source": [
    "# Creating category nodes and relationship with function\n",
    "for func_code in df_reg[\"Function Code\"].unique():\n",
    "    df_subset = df_reg[df_reg[\"Function Code\"]==func_code]\n",
    "    for code, cat_desc in zip(df_subset[\"Category Code\"].unique(), df_reg[\"Category\"].unique()):\n",
    "        create_node(\"Category\",code,cat_desc)\n",
    "        create_relationships = \"\"\"\n",
    "        MATCH (f:Function), (c:Category)\n",
    "        WHERE f.Code = \"{func_code}\" AND c.Code = \"{cat_code}\" \n",
    "        CREATE (f)-[:DEFINED_BY]->(c)\n",
    "        \"\"\"\n",
    "        execute_query(session, create_relationships.format(func_code=func_code,cat_code=code))"
   ]
  },
  {
   "cell_type": "code",
   "execution_count": null,
   "id": "97fd4986-ab00-457f-8232-7c76488017c8",
   "metadata": {},
   "outputs": [],
   "source": [
    "# Creating Regulation Requirement nodes and relationship with Category\n",
    "for cat_code in df_reg[\"Category Code\"].unique():\n",
    "    #print(cat_code)\n",
    "    df_subset = df_reg[df_reg[\"Category Code\"]==cat_code]\n",
    "    for reg_code in df_subset[\"Requirement Code\"].unique():\n",
    "        #print(fw_code)\n",
    "        row = df_reg[df_reg[\"Requirement Code\"]==reg_code]\n",
    "        row.reset_index(inplace=True,drop=True)\n",
    "        #print(row.shape)\n",
    "        #print(\"**\")\n",
    "        create_node(\"DPTMRegRequirement\",row[\"Requirement Code\"][0],row[\"Requirement Description\"][0])\n",
    "        \n",
    "        create_relationships = \"\"\"\n",
    "        MATCH (c:Category), (fw: DPTMRegRequirement)\n",
    "        WHERE c.Code = \"{cat_code}\" AND fw.Code = \"{reg_code}\" \n",
    "        CREATE (c)-[:REQUIRES]->(fw)\n",
    "        \"\"\"\n",
    "        execute_query(session, create_relationships.format(cat_code=cat_code,reg_code=reg_code))"
   ]
  },
  {
   "cell_type": "markdown",
   "id": "6bd27b56-cb03-4185-bbf2-0f7ebabfd6dc",
   "metadata": {},
   "source": [
    "#### Creating Mapping connections (Top 5 similarity)"
   ]
  },
  {
   "cell_type": "code",
   "execution_count": null,
   "id": "0641a73b-7ad0-41b5-89c4-659b90215970",
   "metadata": {},
   "outputs": [],
   "source": [
    "import ast\n",
    "dptm_vectors = df_reg[\"Requirement Description Embedding\"].tolist()\n",
    "nist_vectors = df_fw[\"Contextualized Framework Requirement Embedding\"].tolist()\n",
    "dptm_vectors = [ast.literal_eval(x) for x in dptm_vectors]\n",
    "nist_vectors = [ast.literal_eval(x) for x in nist_vectors]\n",
    "similarity_matrix = cosine_similarity(dptm_vectors,nist_vectors) # We can start looking at similarities from which place one starts"
   ]
  },
  {
   "cell_type": "code",
   "execution_count": null,
   "id": "12879535-3894-4dbd-a280-06c0e2379b63",
   "metadata": {},
   "outputs": [],
   "source": [
    "# Creating a dataframe for which each row is connected to 5 framework requirement\n",
    "df_new = pd.DataFrame(np.repeat(df_reg.values, 5, axis=0))\n",
    "df_new.columns = df_reg.columns\n",
    "df_new.drop(labels=[\"Policy Documents\"],axis=1,inplace=True)\n",
    "for i in range(len(df_reg)):\n",
    "#for i in range(2):\n",
    "    indices_of_interest = np.argsort(similarity_matrix[i,:])[-5:][::-1]\n",
    "    similarity_score = similarity_matrix[i,indices_of_interest]\n",
    "    for count,fw_index in enumerate(indices_of_interest):\n",
    "        matched_framework_reqs = df_fw.iloc[fw_index]\n",
    "        df_new.loc[i*5+count,'Reg-FW-Similarity-Score'] = similarity_score[count]\n",
    "        df_new.loc[i*5+count,'Framework Requirement Description'] = matched_framework_reqs['Framework Requirement Description']\n",
    "        df_new.loc[i*5+count,'Contextualized Framework Requirement Description'] = matched_framework_reqs['Contextualized Framework Requirement Description']\n",
    "        df_new.loc[i*5+count,'Category Code'] = matched_framework_reqs['Category Code']\n",
    "        df_new.loc[i*5+count,'Function Code'] = matched_framework_reqs['Function Code']\n",
    "        df_new.loc[i*5+count,'Framework Requirement Code'] = matched_framework_reqs['Framework Requirement Code']"
   ]
  },
  {
   "cell_type": "code",
   "execution_count": null,
   "id": "3605f43f-f327-49a8-8deb-4ed6a362c971",
   "metadata": {},
   "outputs": [],
   "source": [
    "for index, row in df_new.iterrows():\n",
    "    create_relationships = \"\"\"\n",
    "    MATCH (fw: NISTRequirements), (reg: DPTMRegRequirement)\n",
    "    WHERE reg.Code = \"{reg_code}\" AND fw.Code = \"{fw_code}\" \n",
    "    CREATE (reg)-[m:MAPS_TO]->(fw)\n",
    "    SET m.SimilarityStrength={simscore} \n",
    "    \"\"\"\n",
    "    #print(create_relationships.format(reg_code=row[\"Requirement Code\"],fw_code=row[\"Framework Requirement Code\"]))\n",
    "    execute_query(session, create_relationships.format(reg_code=row[\"Requirement Code\"],fw_code=row[\"Framework Requirement Code\"],simscore=row[\"Reg-FW-Similarity-Score\"]))"
   ]
  },
  {
   "cell_type": "markdown",
   "id": "bbeb511c-1b66-48f0-a3b7-4fbc9df33792",
   "metadata": {},
   "source": [
    "#### Creating Mapping connections (Using threshold)"
   ]
  },
  {
   "cell_type": "code",
   "execution_count": null,
   "id": "5bcbbc49-9ee4-40a8-858b-0773696fd785",
   "metadata": {},
   "outputs": [],
   "source": [
    "df_map_strong = df_new[df_new[\"Reg-FW-Similarity-Score\"]>0.55]\n",
    "df_map_strong.shape"
   ]
  },
  {
   "cell_type": "code",
   "execution_count": null,
   "id": "34a0e5d3-5a06-4e94-ab66-017cd61be255",
   "metadata": {},
   "outputs": [],
   "source": [
    "for index, row in df_map_strong.iterrows():\n",
    "    create_relationships = \"\"\"\n",
    "    MATCH (fw: NISTRequirements), (reg: DPTMRegRequirement)\n",
    "    WHERE reg.Code = \"{reg_code}\" AND fw.Code = \"{fw_code}\" \n",
    "    CREATE (reg)-[m:MAPS_TO]->(fw)\n",
    "    SET m.SimilarityStrength={simscore} \n",
    "    \"\"\"\n",
    "    #print(create_relationships.format(reg_code=row[\"Requirement Code\"],fw_code=row[\"Framework Requirement Code\"]))\n",
    "    execute_query(session, create_relationships.format(reg_code=row[\"Requirement Code\"],fw_code=row[\"Framework Requirement Code\"],simscore=row[\"Reg-FW-Similarity-Score\"]))"
   ]
  },
  {
   "cell_type": "code",
   "execution_count": null,
   "id": "4c0462b8-2e8f-4ffe-9c8f-ec2eef4f76e6",
   "metadata": {},
   "outputs": [],
   "source": []
  }
 ],
 "metadata": {
  "kernelspec": {
   "display_name": "Python 3 (ipykernel)",
   "language": "python",
   "name": "python3"
  },
  "language_info": {
   "codemirror_mode": {
    "name": "ipython",
    "version": 3
   },
   "file_extension": ".py",
   "mimetype": "text/x-python",
   "name": "python",
   "nbconvert_exporter": "python",
   "pygments_lexer": "ipython3",
   "version": "3.8.18"
  }
 },
 "nbformat": 4,
 "nbformat_minor": 5
}
