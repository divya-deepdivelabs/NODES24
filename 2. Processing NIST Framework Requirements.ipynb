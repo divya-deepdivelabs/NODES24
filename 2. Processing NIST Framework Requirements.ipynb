{
 "cells": [
  {
   "cell_type": "markdown",
   "id": "3fc62aae-5968-4908-a327-e826d2c1be0e",
   "metadata": {},
   "source": [
    "### 1: Clean up NIST Framework Excel"
   ]
  },
  {
   "cell_type": "code",
   "execution_count": 2,
   "id": "8d261c7b-c3e8-43b8-9945-1cce2ce530b2",
   "metadata": {},
   "outputs": [],
   "source": [
    "import pandas as pd\n",
    "framework_file = \"NIST-Privacy-Framework-V1.0-Core.xlsx\""
   ]
  },
  {
   "cell_type": "code",
   "execution_count": null,
   "id": "f4543852-05d6-4464-97ef-ff5d3769f637",
   "metadata": {},
   "outputs": [],
   "source": [
    "df_fw = pd.read_excel(framework_file, sheet_name=\"Privacy Framework Core\")\n",
    "#clean data\n",
    "df_fw.drop(labels=[0,1],axis=0, inplace=True) # first 2 rows\n",
    "df_fw.drop(labels=df_fw.columns[0],axis=1, inplace=True) # drop irrelevant columns\n",
    "df_fw.drop(labels=df_fw.columns[1],axis=1, inplace=True)\n",
    "df_fw.drop(labels=df_fw.columns[2],axis=1, inplace=True)\n",
    "df_fw.drop(labels=df_fw.columns[3:7],axis=1, inplace=True)\n",
    "df_fw.columns = [\"Function\", \"Category\", \"Framework Requirement\"]\n",
    "df_fw.fillna(method='ffill',inplace=True)\n",
    "\n",
    "df_fw[['Function Code', 'Function Description']] = df_fw['Function'].str.split(':', n=1, expand=True)\n",
    "df_fw.drop(labels=[\"Function\"],axis=1, inplace=True)\n",
    "df_fw['Function Description'] = df_fw['Function Description'].str.strip()\n",
    "\n",
    "df_fw[['Category Code', 'Category Description']] = df_fw['Category'].str.split(':', n=1, expand=True)\n",
    "df_fw.drop(labels=[\"Category\"],axis=1, inplace=True)\n",
    "df_fw['Category Description'] = df_fw['Category Description'].str.strip()\n",
    "\n",
    "df_fw[['Framework Requirement Code', 'Framework Requirement Description']] = df_fw['Framework Requirement'].str.split(':', n=1, expand=True)\n",
    "df_fw.drop(labels=[\"Framework Requirement\"],axis=1, inplace=True)\n",
    "df_fw['Framework Requirement Description'] = df_fw['Framework Requirement Description'].str.strip()\n",
    "\n",
    "df_fw.reset_index(inplace=True,drop=True)\n",
    "print(df_fw.shape)\n",
    "# write cleaned up dataframe \n",
    "df_fw.to_csv(\"NIST-Privacy-Framework-structured.csv\")\n",
    "df_fw.head()"
   ]
  },
  {
   "cell_type": "markdown",
   "id": "9e49d85e-d55e-4b85-af57-dc7e7255f7f3",
   "metadata": {},
   "source": [
    "### 2. Generate Contextualized Framework Requirement"
   ]
  },
  {
   "cell_type": "code",
   "execution_count": null,
   "id": "e2a18c67-1f72-46c2-97b6-b57bfcf8f8dc",
   "metadata": {},
   "outputs": [],
   "source": [
    "import os\n",
    "import openai\n",
    "import json\n",
    "import tiktoken\n",
    "import numpy as np\n",
    "import matplotlib.pyplot as plt\n",
    "import pandas as pd\n",
    "pd.set_option('max_colwidth', 0)\n",
    "\n",
    "from pypdf import PdfReader\n",
    "os.environ[\"OPENAI_API_KEY\"] = \"<OPENAI-API-KEY>\"\n",
    "\n",
    "from openai import OpenAI\n",
    "client = OpenAI()\n",
    "encoding = tiktoken.get_encoding(\"cl100k_base\")\n",
    "\n",
    "def call_chatgpt4(prompt):\n",
    "    completion = client.chat.completions.create(\n",
    "      model=\"gpt-4-turbo\",\n",
    "      #model=\"gpt-4o\",\n",
    "      messages=[\n",
    "        {\"role\": \"system\", \"content\": \"I am compliance manager and interested in mapping framework requirements from NIST frameworks to corresponding regulations.\"},\n",
    "        {\"role\": \"user\", \"content\": prompt}\n",
    "      ],\n",
    "      temperature = 0.0,\n",
    "      seed= 42,\n",
    "      top_p = 0.98,\n",
    "      max_tokens  = 4096\n",
    "      #response_format={ \"type\": \"json_object\" }\n",
    "    )\n",
    "    #output_token_count = len(encoding.encode(completion.choices[0].message.content))\n",
    "\n",
    "    #response_json = json.loads(completion.choices[0].message.content)\n",
    "    \n",
    "    return completion.choices[0].message.content"
   ]
  },
  {
   "cell_type": "code",
   "execution_count": null,
   "id": "5f96fee9-51aa-4f7d-978b-ec2a991a489a",
   "metadata": {},
   "outputs": [],
   "source": [
    "def get_contextualized_frameworkrequirements(framework_requirements, functional_objective, category):\n",
    "    #print(framework_requirements)\n",
    "    #print(functional_objective)\n",
    "    analysis_prompt = \"\"\"An item framework requirement from the NIST Privacy Framework is provided below:\n",
    "    {framework_requirements}\n",
    "    \n",
    "    This framework requirement is tagged under the function objective:\n",
    "    {functional_objective} \n",
    "    \n",
    "    and  category:\n",
    "    {category} \n",
    "\n",
    "    Please give a short succinct contextualized framework requirements that captures the requirement within the context of function \n",
    "    and category. Make sure to include all details from the requirement. \n",
    "    The contextualized framework requirement will be used for the purposes of improved embedding to enable better mapping with regulations. \n",
    "    Answer only with the succinct contextualized framework requirement and nothing else. \n",
    "    \"\"\"\n",
    "    return analysis_prompt.format(framework_requirements=framework_requirements,functional_objective=functional_objective,category=category)\n",
    "\n",
    "def call_contextfw_func(row):\n",
    "    fw_requirement = row[\"Framework Requirement Description\"]\n",
    "    func_objective = row[\"Function Description\"]\n",
    "    category = row[\"Category Description\"]\n",
    "    contextfw_prompt = get_contextualized_frameworkrequirements(fw_requirement,func_objective,category)\n",
    "    response_chatgpt4 = call_chatgpt4(contextfw_prompt)\n",
    "    return response_chatgpt4"
   ]
  },
  {
   "cell_type": "code",
   "execution_count": null,
   "id": "f5304fb6-2531-4b47-b311-60cf694d4be1",
   "metadata": {},
   "outputs": [],
   "source": [
    "df_fw[\"Contextualized Framework Requirement Description\"] = df_fw.apply(call_contextfw_func,axis=1)"
   ]
  },
  {
   "cell_type": "code",
   "execution_count": null,
   "id": "ae0718fe-4d25-4c65-b606-6888bc82da8a",
   "metadata": {},
   "outputs": [],
   "source": [
    "df_fw.to_csv(\"NIST-Privacy-Framework-structured-withcontextFWReq.csv\")\n",
    "df_fw.head()"
   ]
  },
  {
   "cell_type": "code",
   "execution_count": null,
   "id": "950a5030-2347-45e5-bf58-60b4ace23dc1",
   "metadata": {},
   "outputs": [],
   "source": [
    "df_fw.shape"
   ]
  },
  {
   "cell_type": "markdown",
   "id": "e5a40c5f-807c-4362-9399-d99656083b4f",
   "metadata": {},
   "source": [
    "### 3. Embeddings of the contextualized framework requirements"
   ]
  },
  {
   "cell_type": "code",
   "execution_count": null,
   "id": "ffbce57b-82dc-4a41-be38-a2916d03177b",
   "metadata": {},
   "outputs": [],
   "source": [
    "from llama_index.llms.openai import OpenAI\n",
    "from llama_index.embeddings.openai import OpenAIEmbedding\n",
    "from llama_index.core import  VectorStoreIndex\n",
    "from llama_index.core import Settings\n",
    "\n",
    "EMBEDDING_MODEL  = \"text-embedding-3-small\"\n",
    "GENERATION_MODEL = \"gpt-4\"\n",
    "\n",
    "llm = OpenAI(model=GENERATION_MODEL)\n",
    "\n",
    "Settings.llm = llm"
   ]
  },
  {
   "cell_type": "code",
   "execution_count": null,
   "id": "9d4776a5-8b51-434d-a6d5-a7a9c4d06e9b",
   "metadata": {},
   "outputs": [],
   "source": [
    "from openai import OpenAI\n",
    "openai_client = OpenAI (api_key = os.environ[\"OPENAI_API_KEY\"])\n",
    "def get_embedding(client, text, model):\n",
    "    response = client.embeddings.create(\n",
    "                    input=text,\n",
    "                    model=model,\n",
    "                )\n",
    "    return response.data[0].embedding\n",
    "def call_embedding_func(row):\n",
    "    embedding = get_embedding(openai_client, row[\"Contextualized Framework Requirement Description\"], EMBEDDING_MODEL)\n",
    "    return embedding"
   ]
  },
  {
   "cell_type": "code",
   "execution_count": null,
   "id": "25b8b193-0951-4aac-9147-1d5523317799",
   "metadata": {},
   "outputs": [],
   "source": [
    "df_fw[\"Contextualized Framework Requirement Embedding\"] = df_fw.apply(call_embedding_func,axis=1)"
   ]
  },
  {
   "cell_type": "code",
   "execution_count": null,
   "id": "8b9f3dec-115a-4fec-ae14-3d5d5c1ddaba",
   "metadata": {},
   "outputs": [],
   "source": [
    "df_fw.to_csv(\"NIST-Privacy-Framework-structured-withcontextFWReq-withEmbedding.csv\")\n",
    "df_fw.head()"
   ]
  },
  {
   "cell_type": "code",
   "execution_count": null,
   "id": "e00290db-3f4e-438f-9a23-937d315ceef7",
   "metadata": {},
   "outputs": [],
   "source": [
    "df_fw.shape"
   ]
  },
  {
   "cell_type": "code",
   "execution_count": 4,
   "id": "9070c78a-7b87-400f-b973-2c18c63b9440",
   "metadata": {},
   "outputs": [
    {
     "data": {
      "text/html": [
       "<div>\n",
       "<style scoped>\n",
       "    .dataframe tbody tr th:only-of-type {\n",
       "        vertical-align: middle;\n",
       "    }\n",
       "\n",
       "    .dataframe tbody tr th {\n",
       "        vertical-align: top;\n",
       "    }\n",
       "\n",
       "    .dataframe thead th {\n",
       "        text-align: right;\n",
       "    }\n",
       "</style>\n",
       "<table border=\"1\" class=\"dataframe\">\n",
       "  <thead>\n",
       "    <tr style=\"text-align: right;\">\n",
       "      <th></th>\n",
       "      <th>Function Code</th>\n",
       "      <th>Function Description</th>\n",
       "      <th>Category Code</th>\n",
       "      <th>Category Description</th>\n",
       "      <th>Framework Requirement Code</th>\n",
       "      <th>Framework Requirement Description</th>\n",
       "      <th>Contextualized Framework Requirement Description</th>\n",
       "      <th>Contextualized Framework Requirement Embedding</th>\n",
       "    </tr>\n",
       "  </thead>\n",
       "  <tbody>\n",
       "    <tr>\n",
       "      <th>0</th>\n",
       "      <td>IDENTIFY-P (ID-P)</td>\n",
       "      <td>Develop the organizational understanding to ma...</td>\n",
       "      <td>Inventory and Mapping (ID.IM-P)</td>\n",
       "      <td>Data processing by systems, products, or servi...</td>\n",
       "      <td>ID.IM-P1</td>\n",
       "      <td>Systems/products/services that process data ar...</td>\n",
       "      <td>Maintain a comprehensive inventory of all syst...</td>\n",
       "      <td>[0.014797082170844078, 0.03422795608639717, 0....</td>\n",
       "    </tr>\n",
       "    <tr>\n",
       "      <th>1</th>\n",
       "      <td>IDENTIFY-P (ID-P)</td>\n",
       "      <td>Develop the organizational understanding to ma...</td>\n",
       "      <td>Inventory and Mapping (ID.IM-P)</td>\n",
       "      <td>Data processing by systems, products, or servi...</td>\n",
       "      <td>ID.IM-P2</td>\n",
       "      <td>Owners or operators (e.g., the organization or...</td>\n",
       "      <td>Maintain a comprehensive inventory of all owne...</td>\n",
       "      <td>[0.017082873731851578, 0.04562059044837952, 0....</td>\n",
       "    </tr>\n",
       "    <tr>\n",
       "      <th>2</th>\n",
       "      <td>IDENTIFY-P (ID-P)</td>\n",
       "      <td>Develop the organizational understanding to ma...</td>\n",
       "      <td>Inventory and Mapping (ID.IM-P)</td>\n",
       "      <td>Data processing by systems, products, or servi...</td>\n",
       "      <td>ID.IM-P3</td>\n",
       "      <td>Categories of individuals (e.g., customers, em...</td>\n",
       "      <td>Maintain an inventory of categories of individ...</td>\n",
       "      <td>[0.013009565882384777, 0.01754865236580372, 0....</td>\n",
       "    </tr>\n",
       "    <tr>\n",
       "      <th>3</th>\n",
       "      <td>IDENTIFY-P (ID-P)</td>\n",
       "      <td>Develop the organizational understanding to ma...</td>\n",
       "      <td>Inventory and Mapping (ID.IM-P)</td>\n",
       "      <td>Data processing by systems, products, or servi...</td>\n",
       "      <td>ID.IM-P4</td>\n",
       "      <td>Data actions of the systems/products/services ...</td>\n",
       "      <td>**Contextualized Framework Requirement:**\\nEns...</td>\n",
       "      <td>[-0.0032425932586193085, 0.049907196313142776,...</td>\n",
       "    </tr>\n",
       "    <tr>\n",
       "      <th>4</th>\n",
       "      <td>IDENTIFY-P (ID-P)</td>\n",
       "      <td>Develop the organizational understanding to ma...</td>\n",
       "      <td>Inventory and Mapping (ID.IM-P)</td>\n",
       "      <td>Data processing by systems, products, or servi...</td>\n",
       "      <td>ID.IM-P5</td>\n",
       "      <td>The purposes for the data actions are inventor...</td>\n",
       "      <td>Inventory the purposes of data actions to enha...</td>\n",
       "      <td>[0.010523432865738869, 0.03671571612358093, 0....</td>\n",
       "    </tr>\n",
       "  </tbody>\n",
       "</table>\n",
       "</div>"
      ],
      "text/plain": [
       "       Function Code                               Function Description  \\\n",
       "0  IDENTIFY-P (ID-P)  Develop the organizational understanding to ma...   \n",
       "1  IDENTIFY-P (ID-P)  Develop the organizational understanding to ma...   \n",
       "2  IDENTIFY-P (ID-P)  Develop the organizational understanding to ma...   \n",
       "3  IDENTIFY-P (ID-P)  Develop the organizational understanding to ma...   \n",
       "4  IDENTIFY-P (ID-P)  Develop the organizational understanding to ma...   \n",
       "\n",
       "                     Category Code  \\\n",
       "0  Inventory and Mapping (ID.IM-P)   \n",
       "1  Inventory and Mapping (ID.IM-P)   \n",
       "2  Inventory and Mapping (ID.IM-P)   \n",
       "3  Inventory and Mapping (ID.IM-P)   \n",
       "4  Inventory and Mapping (ID.IM-P)   \n",
       "\n",
       "                                Category Description  \\\n",
       "0  Data processing by systems, products, or servi...   \n",
       "1  Data processing by systems, products, or servi...   \n",
       "2  Data processing by systems, products, or servi...   \n",
       "3  Data processing by systems, products, or servi...   \n",
       "4  Data processing by systems, products, or servi...   \n",
       "\n",
       "  Framework Requirement Code  \\\n",
       "0                   ID.IM-P1   \n",
       "1                   ID.IM-P2   \n",
       "2                   ID.IM-P3   \n",
       "3                   ID.IM-P4   \n",
       "4                   ID.IM-P5   \n",
       "\n",
       "                   Framework Requirement Description  \\\n",
       "0  Systems/products/services that process data ar...   \n",
       "1  Owners or operators (e.g., the organization or...   \n",
       "2  Categories of individuals (e.g., customers, em...   \n",
       "3  Data actions of the systems/products/services ...   \n",
       "4  The purposes for the data actions are inventor...   \n",
       "\n",
       "    Contextualized Framework Requirement Description  \\\n",
       "0  Maintain a comprehensive inventory of all syst...   \n",
       "1  Maintain a comprehensive inventory of all owne...   \n",
       "2  Maintain an inventory of categories of individ...   \n",
       "3  **Contextualized Framework Requirement:**\\nEns...   \n",
       "4  Inventory the purposes of data actions to enha...   \n",
       "\n",
       "      Contextualized Framework Requirement Embedding  \n",
       "0  [0.014797082170844078, 0.03422795608639717, 0....  \n",
       "1  [0.017082873731851578, 0.04562059044837952, 0....  \n",
       "2  [0.013009565882384777, 0.01754865236580372, 0....  \n",
       "3  [-0.0032425932586193085, 0.049907196313142776,...  \n",
       "4  [0.010523432865738869, 0.03671571612358093, 0....  "
      ]
     },
     "execution_count": 4,
     "metadata": {},
     "output_type": "execute_result"
    }
   ],
   "source": [
    "df_fw = pd.read_csv(\"NIST-Privacy-Framework-structured-withcontextFWReq-withEmbedding.csv\",index_col=0)\n",
    "df_fw.head()"
   ]
  },
  {
   "cell_type": "code",
   "execution_count": null,
   "id": "f17266c9-9b34-4739-a206-f2d75ad56fc4",
   "metadata": {},
   "outputs": [],
   "source": []
  }
 ],
 "metadata": {
  "kernelspec": {
   "display_name": "Python 3 (ipykernel)",
   "language": "python",
   "name": "python3"
  },
  "language_info": {
   "codemirror_mode": {
    "name": "ipython",
    "version": 3
   },
   "file_extension": ".py",
   "mimetype": "text/x-python",
   "name": "python",
   "nbconvert_exporter": "python",
   "pygments_lexer": "ipython3",
   "version": "3.8.18"
  }
 },
 "nbformat": 4,
 "nbformat_minor": 5
}
